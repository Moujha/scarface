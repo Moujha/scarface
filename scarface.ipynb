{
 "cells": [
  {
   "cell_type": "code",
   "execution_count": 1,
   "metadata": {},
   "outputs": [],
   "source": [
    "import pandas as pd\n",
    "from pandas import DataFrame\n",
    "\n",
    "import matplotlib.pyplot as plt\n",
    "import numpy as np\n",
    "%matplotlib inline"
   ]
  },
  {
   "cell_type": "code",
   "execution_count": 2,
   "metadata": {},
   "outputs": [
    {
     "data": {
      "text/html": [
       "<div>\n",
       "<style scoped>\n",
       "    .dataframe tbody tr th:only-of-type {\n",
       "        vertical-align: middle;\n",
       "    }\n",
       "\n",
       "    .dataframe tbody tr th {\n",
       "        vertical-align: top;\n",
       "    }\n",
       "\n",
       "    .dataframe thead th {\n",
       "        text-align: right;\n",
       "    }\n",
       "</style>\n",
       "<table border=\"1\" class=\"dataframe\">\n",
       "  <thead>\n",
       "    <tr style=\"text-align: right;\">\n",
       "      <th></th>\n",
       "      <th>punch</th>\n",
       "      <th>release_year</th>\n",
       "      <th>title</th>\n",
       "      <th>artists</th>\n",
       "      <th>previous_punchs</th>\n",
       "      <th>next_punchs</th>\n",
       "      <th>url</th>\n",
       "      <th>word_searched</th>\n",
       "      <th>full_punch</th>\n",
       "    </tr>\n",
       "  </thead>\n",
       "  <tbody>\n",
       "    <tr>\n",
       "      <th>0</th>\n",
       "      <td>Les murs transpirent, enlève ton T-Shirt, Manny</td>\n",
       "      <td>2002</td>\n",
       "      <td>113 Fout La Merde (Ft. Thomas Bangalter)</td>\n",
       "      <td>113</td>\n",
       "      <td>Fous la merde vas-y, Gros, c’est les rhamé,C’e...</td>\n",
       "      <td>On t’mets à poil comme au 421, au casino ou,Mi...</td>\n",
       "      <td>https://genius.com/113-113-fout-la-merde-lyrics</td>\n",
       "      <td>manny</td>\n",
       "      <td>NaN</td>\n",
       "    </tr>\n",
       "    <tr>\n",
       "      <th>1</th>\n",
       "      <td>Tony Montana, Scarface, a.k.a Al Pacino !</td>\n",
       "      <td>2011</td>\n",
       "      <td>Freestyle Générations (Part 2)</td>\n",
       "      <td>1995</td>\n",
       "      <td>Plus de jus que Palpatine,J'suis l'caillou dan...</td>\n",
       "      <td>Tout l'temps philosophant, j'suis l'minot,Offr...</td>\n",
       "      <td>https://genius.com/1995-freestyle-generations-...</td>\n",
       "      <td>montana</td>\n",
       "      <td>Plus de jus que Palpatine,J'suis l'caillou dan...</td>\n",
       "    </tr>\n",
       "    <tr>\n",
       "      <th>2</th>\n",
       "      <td>Tony Montana, Scarface, a.k.a Al Pacino !</td>\n",
       "      <td>2011</td>\n",
       "      <td>Freestyle Générations (Part 2)</td>\n",
       "      <td>1995</td>\n",
       "      <td>Plus de jus que Palpatine,J'suis l'caillou dan...</td>\n",
       "      <td>Tout l'temps philosophant, j'suis l'minot,Offr...</td>\n",
       "      <td>https://genius.com/1995-freestyle-generations-...</td>\n",
       "      <td>scarface</td>\n",
       "      <td>Plus de jus que Palpatine,J'suis l'caillou dan...</td>\n",
       "    </tr>\n",
       "    <tr>\n",
       "      <th>3</th>\n",
       "      <td>Frapper Montana pour mon genre de nana ne parl...</td>\n",
       "      <td>2012</td>\n",
       "      <td>Salaaam</td>\n",
       "      <td>3010</td>\n",
       "      <td>C'est pas pareil, sors ton appareil, si vite o...</td>\n",
       "      <td>Acteur, a assumé, mais c'est grave,Plier pour ...</td>\n",
       "      <td>https://genius.com/3010-salaaam-lyrics</td>\n",
       "      <td>montana</td>\n",
       "      <td>C'est pas pareil, sors ton appareil, si vite o...</td>\n",
       "    </tr>\n",
       "    <tr>\n",
       "      <th>4</th>\n",
       "      <td>Négro, j'suis français comme Montana</td>\n",
       "      <td>2015</td>\n",
       "      <td>Grünt #26 (Ft. 3010, Eazy Dew, Josman &amp; S.Pri ...</td>\n",
       "      <td>3010</td>\n",
       "      <td>Car l'État joue les sourds là où les gosses hu...</td>\n",
       "      <td>Gros et j'suis qu'un étranger sur mon canap,J'...</td>\n",
       "      <td>https://genius.com/Grunt-grunt-26-lyrics</td>\n",
       "      <td>montana</td>\n",
       "      <td>Car l'État joue les sourds là où les gosses hu...</td>\n",
       "    </tr>\n",
       "    <tr>\n",
       "      <th>...</th>\n",
       "      <td>...</td>\n",
       "      <td>...</td>\n",
       "      <td>...</td>\n",
       "      <td>...</td>\n",
       "      <td>...</td>\n",
       "      <td>...</td>\n",
       "      <td>...</td>\n",
       "      <td>...</td>\n",
       "      <td>...</td>\n",
       "    </tr>\n",
       "    <tr>\n",
       "      <th>2139</th>\n",
       "      <td>Armes de guerre comme Montana Tony, j'repasse ...</td>\n",
       "      <td>2019</td>\n",
       "      <td>7,65</td>\n",
       "      <td>Zola</td>\n",
       "      <td>Fais pas l'brigante, le narcos, enculé, car c'...</td>\n",
       "      <td>Sur l'terrain, numéro 7 comme Robinho, j'suis ...</td>\n",
       "      <td>https://genius.com/Zola-765-lyrics</td>\n",
       "      <td>montana</td>\n",
       "      <td>Fais pas l'brigante, le narcos, enculé, car c'...</td>\n",
       "    </tr>\n",
       "    <tr>\n",
       "      <th>2140</th>\n",
       "      <td>Pas la vice, cette salace comme dans Scarface</td>\n",
       "      <td>2019</td>\n",
       "      <td>Kinshasa</td>\n",
       "      <td>Zola</td>\n",
       "      <td>J'fais l'tour d'la ville à la quête du moindre...</td>\n",
       "      <td>J'veux leur fric, fric noyé dans l'argent sale...</td>\n",
       "      <td>https://genius.com/Zola-kinshasa-lyrics</td>\n",
       "      <td>scarface</td>\n",
       "      <td>J'fais l'tour d'la ville à la quête du moindre...</td>\n",
       "    </tr>\n",
       "    <tr>\n",
       "      <th>2141</th>\n",
       "      <td>Pas la vice, cette salace comme dans Scarface</td>\n",
       "      <td>2019</td>\n",
       "      <td>Kinshasa</td>\n",
       "      <td>Zola</td>\n",
       "      <td>Pas la vice, cette salace comme dans Scarface,...</td>\n",
       "      <td>,Refrain</td>\n",
       "      <td>https://genius.com/Zola-kinshasa-lyrics</td>\n",
       "      <td>scarface</td>\n",
       "      <td>Pas la vice, cette salace comme dans Scarface,...</td>\n",
       "    </tr>\n",
       "    <tr>\n",
       "      <th>2142</th>\n",
       "      <td>Ouais, c'est mon biff qu'y a sous ton lit, j'd...</td>\n",
       "      <td>2019</td>\n",
       "      <td>7.65</td>\n",
       "      <td>Zola</td>\n",
       "      <td>Ouais, c'est Zolaski d'Évry, zigzag sur l'A6, ...</td>\n",
       "      <td>Armes de guerre comme Montana Tony, j'repasse ...</td>\n",
       "      <td>https://genius.com/Zola-765-lyrics</td>\n",
       "      <td>tony</td>\n",
       "      <td>NaN</td>\n",
       "    </tr>\n",
       "    <tr>\n",
       "      <th>2143</th>\n",
       "      <td>La nuit comme Tony j'me transforme en loup-garou</td>\n",
       "      <td>2017</td>\n",
       "      <td>Autour de moi</td>\n",
       "      <td>Zuukou Mayzie</td>\n",
       "      <td>Gros je m'en bats les couilles qu'elle soit bo...</td>\n",
       "      <td>J'vais reprendre le Uber, rejoindre tous mes l...</td>\n",
       "      <td>https://genius.com/Zuukou-mayzie-autour-de-moi...</td>\n",
       "      <td>tony</td>\n",
       "      <td>NaN</td>\n",
       "    </tr>\n",
       "  </tbody>\n",
       "</table>\n",
       "<p>2144 rows × 9 columns</p>\n",
       "</div>"
      ],
      "text/plain": [
       "                                                  punch release_year  \\\n",
       "0       Les murs transpirent, enlève ton T-Shirt, Manny         2002   \n",
       "1             Tony Montana, Scarface, a.k.a Al Pacino !         2011   \n",
       "2             Tony Montana, Scarface, a.k.a Al Pacino !         2011   \n",
       "3     Frapper Montana pour mon genre de nana ne parl...         2012   \n",
       "4                  Négro, j'suis français comme Montana         2015   \n",
       "...                                                 ...          ...   \n",
       "2139  Armes de guerre comme Montana Tony, j'repasse ...         2019   \n",
       "2140      Pas la vice, cette salace comme dans Scarface         2019   \n",
       "2141      Pas la vice, cette salace comme dans Scarface         2019   \n",
       "2142  Ouais, c'est mon biff qu'y a sous ton lit, j'd...         2019   \n",
       "2143   La nuit comme Tony j'me transforme en loup-garou         2017   \n",
       "\n",
       "                                                  title        artists  \\\n",
       "0              113 Fout La Merde (Ft. Thomas Bangalter)            113   \n",
       "1                        Freestyle Générations (Part 2)           1995   \n",
       "2                        Freestyle Générations (Part 2)           1995   \n",
       "3                                               Salaaam           3010   \n",
       "4     Grünt #26 (Ft. 3010, Eazy Dew, Josman & S.Pri ...           3010   \n",
       "...                                                 ...            ...   \n",
       "2139                                               7,65           Zola   \n",
       "2140                                           Kinshasa           Zola   \n",
       "2141                                           Kinshasa           Zola   \n",
       "2142                                               7.65           Zola   \n",
       "2143                                      Autour de moi  Zuukou Mayzie   \n",
       "\n",
       "                                        previous_punchs  \\\n",
       "0     Fous la merde vas-y, Gros, c’est les rhamé,C’e...   \n",
       "1     Plus de jus que Palpatine,J'suis l'caillou dan...   \n",
       "2     Plus de jus que Palpatine,J'suis l'caillou dan...   \n",
       "3     C'est pas pareil, sors ton appareil, si vite o...   \n",
       "4     Car l'État joue les sourds là où les gosses hu...   \n",
       "...                                                 ...   \n",
       "2139  Fais pas l'brigante, le narcos, enculé, car c'...   \n",
       "2140  J'fais l'tour d'la ville à la quête du moindre...   \n",
       "2141  Pas la vice, cette salace comme dans Scarface,...   \n",
       "2142  Ouais, c'est Zolaski d'Évry, zigzag sur l'A6, ...   \n",
       "2143  Gros je m'en bats les couilles qu'elle soit bo...   \n",
       "\n",
       "                                            next_punchs  \\\n",
       "0     On t’mets à poil comme au 421, au casino ou,Mi...   \n",
       "1     Tout l'temps philosophant, j'suis l'minot,Offr...   \n",
       "2     Tout l'temps philosophant, j'suis l'minot,Offr...   \n",
       "3     Acteur, a assumé, mais c'est grave,Plier pour ...   \n",
       "4     Gros et j'suis qu'un étranger sur mon canap,J'...   \n",
       "...                                                 ...   \n",
       "2139  Sur l'terrain, numéro 7 comme Robinho, j'suis ...   \n",
       "2140  J'veux leur fric, fric noyé dans l'argent sale...   \n",
       "2141                                           ,Refrain   \n",
       "2142  Armes de guerre comme Montana Tony, j'repasse ...   \n",
       "2143  J'vais reprendre le Uber, rejoindre tous mes l...   \n",
       "\n",
       "                                                    url word_searched  \\\n",
       "0       https://genius.com/113-113-fout-la-merde-lyrics         manny   \n",
       "1     https://genius.com/1995-freestyle-generations-...       montana   \n",
       "2     https://genius.com/1995-freestyle-generations-...      scarface   \n",
       "3                https://genius.com/3010-salaaam-lyrics       montana   \n",
       "4              https://genius.com/Grunt-grunt-26-lyrics       montana   \n",
       "...                                                 ...           ...   \n",
       "2139                 https://genius.com/Zola-765-lyrics       montana   \n",
       "2140            https://genius.com/Zola-kinshasa-lyrics      scarface   \n",
       "2141            https://genius.com/Zola-kinshasa-lyrics      scarface   \n",
       "2142                 https://genius.com/Zola-765-lyrics          tony   \n",
       "2143  https://genius.com/Zuukou-mayzie-autour-de-moi...          tony   \n",
       "\n",
       "                                             full_punch  \n",
       "0                                                   NaN  \n",
       "1     Plus de jus que Palpatine,J'suis l'caillou dan...  \n",
       "2     Plus de jus que Palpatine,J'suis l'caillou dan...  \n",
       "3     C'est pas pareil, sors ton appareil, si vite o...  \n",
       "4     Car l'État joue les sourds là où les gosses hu...  \n",
       "...                                                 ...  \n",
       "2139  Fais pas l'brigante, le narcos, enculé, car c'...  \n",
       "2140  J'fais l'tour d'la ville à la quête du moindre...  \n",
       "2141  Pas la vice, cette salace comme dans Scarface,...  \n",
       "2142                                                NaN  \n",
       "2143                                                NaN  \n",
       "\n",
       "[2144 rows x 9 columns]"
      ]
     },
     "execution_count": 2,
     "metadata": {},
     "output_type": "execute_result"
    }
   ],
   "source": [
    "sheet_url = 'https://docs.google.com/spreadsheets/d/1yQBMGzutWwVJJbVGtCmttIjHYr3-wTW9/edit#gid=1741895064'\n",
    "csv_export_url = sheet_url.replace('/edit#gid=', '/export?format=csv&gid=')\n",
    "df = pd.read_csv(csv_export_url)\n",
    "\n",
    "df = df.drop(['release_date','modèle','tag','note.1','punch_position',\"note\"], axis=1)\n",
    "#df = df.dropna()\n",
    "\n",
    "df"
   ]
  },
  {
   "cell_type": "code",
   "execution_count": 3,
   "metadata": {},
   "outputs": [
    {
     "data": {
      "text/plain": [
       "2144"
      ]
     },
     "execution_count": 3,
     "metadata": {},
     "output_type": "execute_result"
    }
   ],
   "source": [
    "len(df.index)"
   ]
  },
  {
   "cell_type": "code",
   "execution_count": 4,
   "metadata": {},
   "outputs": [
    {
     "data": {
      "text/plain": [
       "0                                                     NaN\n",
       "1       Plus de jus que Palpatine J suis l caillou dan...\n",
       "2       Plus de jus que Palpatine J suis l caillou dan...\n",
       "3       C est pas pareil  sors ton appareil  si vite o...\n",
       "4       Car l État joue les sourds là où les gosses hu...\n",
       "                              ...                        \n",
       "2139    Fais pas l brigante  le narcos  enculé  car c ...\n",
       "2140    J fais l tour d la ville à la quête du moindre...\n",
       "2141    Pas la vice  cette salace comme dans Scarface ...\n",
       "2142                                                  NaN\n",
       "2143                                                  NaN\n",
       "Name: full_punch, Length: 2144, dtype: object"
      ]
     },
     "execution_count": 4,
     "metadata": {},
     "output_type": "execute_result"
    }
   ],
   "source": [
    "df['full_punch'] = df['full_punch'].str.replace(',',' ').str.replace('.',' ').str.replace('.',' ').str.replace('«',' ').str.replace('»',' ').str.replace('?',' ').str.replace('\"',' ').str.replace(\"'\",' ').str.replace(\"/\",\" \").str.replace(\"\\\\\",' ')\n",
    "df['full_punch']"
   ]
  },
  {
   "cell_type": "code",
   "execution_count": 5,
   "metadata": {},
   "outputs": [
    {
     "data": {
      "text/plain": [
       "JuL                111\n",
       "Rohff               61\n",
       "PNL                 60\n",
       "Niska               43\n",
       "MMZ                 39\n",
       "Zbatata             38\n",
       "Hayce Lemsi         33\n",
       "Falcko              32\n",
       "40000 GANG          30\n",
       "Naps                27\n",
       "Lartiste            26\n",
       "Lacrim              24\n",
       "Franglish           24\n",
       "Les Alchimistes     24\n",
       "Kaaris              22\n",
       "Booba               22\n",
       "Seth Gueko          22\n",
       "Ninho               20\n",
       "DTF                 19\n",
       "AMC                 19\n",
       "Escobar Macson      18\n",
       "Kalif Hardcore      17\n",
       "Alpha 5.20          17\n",
       "Leto                17\n",
       "Mister You          17\n",
       "Anas Benturquia     17\n",
       "Alrima              16\n",
       "Tony Karino         16\n",
       "Name: artists, dtype: int64"
      ]
     },
     "metadata": {},
     "output_type": "display_data"
    }
   ],
   "source": [
    "top_artist = df[\"artists\"].value_counts()\n",
    "display(top_artist.head(28))"
   ]
  },
  {
   "cell_type": "code",
   "execution_count": 6,
   "metadata": {},
   "outputs": [
    {
     "data": {
      "text/plain": [
       "title                                                               artists        \n",
       "Tony Montana                                                        Zbatata            30\n",
       "Sosa                                                                40000 GANG         29\n",
       "Tony Montana (Ft. Brigistone, Madrane, Rako (Charo) & Trafiquinté)  Niska              27\n",
       "Vargas (Ft. Alonzo)                                                 Franglish          24\n",
       "La résurrection                                                     Rohff              22\n",
       "Tony Montana                                                        Lartiste           22\n",
       "Tony (Ft. AMC & LF)                                                 AMC                19\n",
       "Ça ira                                                              Anas Benturquia    17\n",
       "Montana                                                             Tony Karino        16\n",
       "Guigui golden gun                                                   Seth Gueko         16\n",
       "Bad Montana (Ft. KPoint)                                            Hayce Lemsi        16\n",
       "Donna imma                                                          Alrima             16\n",
       "Manolo                                                              MMZ                15\n",
       "Tony Sossa                                                          Vegedream          14\n",
       "Rebenga (Ft. RKM)                                                   PNL                14\n",
       "dtype: int64"
      ]
     },
     "execution_count": 6,
     "metadata": {},
     "output_type": "execute_result"
    }
   ],
   "source": [
    "df_top_song = df.groupby(['title','artists']).size().sort_values(ascending=False)\n",
    "df_top_song.head(15)"
   ]
  },
  {
   "cell_type": "code",
   "execution_count": 7,
   "metadata": {},
   "outputs": [
    {
     "data": {
      "text/plain": [
       "2          1995\n",
       "22      3 Coups\n",
       "24    3ème Oeil\n",
       "Name: artists, dtype: object"
      ]
     },
     "execution_count": 7,
     "metadata": {},
     "output_type": "execute_result"
    }
   ],
   "source": [
    "df[df[\"word_searched\"]==\"scarface\"][\"artists\"].head(3)\n",
    "\n",
    "#all artists that mentionned \"scarface\""
   ]
  },
  {
   "cell_type": "code",
   "execution_count": 8,
   "metadata": {},
   "outputs": [
    {
     "data": {
      "text/plain": [
       "<matplotlib.axes._subplots.AxesSubplot at 0x1c386fee190>"
      ]
     },
     "execution_count": 8,
     "metadata": {},
     "output_type": "execute_result"
    },
    {
     "data": {
      "image/png": "[encoded data removed]",
      "text/plain": [
       "<Figure size 432x288 with 1 Axes>"
      ]
     },
     "metadata": {
      "needs_background": "light"
     },
     "output_type": "display_data"
    }
   ],
   "source": [
    "df[\"release_year\"].value_counts().sort_index().plot(kind=\"line\")\n",
    "\n",
    "#graph count by year ordered by index (column 1 of series) "
   ]
  },
  {
   "cell_type": "code",
   "execution_count": 9,
   "metadata": {},
   "outputs": [
    {
     "data": {
      "text/plain": [
       "artists\n",
       "Rohff         9\n",
       "JuL           8\n",
       "Booba         7\n",
       "Sofiane       7\n",
       "La Fouine     7\n",
       "Naps          7\n",
       "Lino          7\n",
       "Lacrim        7\n",
       "Veerus        6\n",
       "PNL           6\n",
       "Zbatata       6\n",
       "Falcko        6\n",
       "Mister You    6\n",
       "MMZ           6\n",
       "Lartiste      6\n",
       "Name: word_searched, dtype: int64"
      ]
     },
     "execution_count": 9,
     "metadata": {},
     "output_type": "execute_result"
    }
   ],
   "source": [
    "diff_ref = df.groupby('artists')['word_searched'].unique().apply(len).sort_values(ascending=False)\n",
    "diff_ref.head(15)\n",
    "#counts number of different words used by each rapper"
   ]
  },
  {
   "cell_type": "code",
   "execution_count": 10,
   "metadata": {},
   "outputs": [
    {
     "data": {
      "text/plain": [
       "artists\n",
       "JuL               75\n",
       "Rohff             44\n",
       "Zbatata           28\n",
       "MMZ               25\n",
       "Naps              24\n",
       "Falcko            24\n",
       "Lacrim            23\n",
       "PNL               21\n",
       "Hayce Lemsi       20\n",
       "Niska             19\n",
       "Kalif Hardcore    16\n",
       "Mister You        14\n",
       "Ninho             14\n",
       "Booba             14\n",
       "Escobar Macson    13\n",
       "Name: punch, dtype: int64"
      ]
     },
     "execution_count": 10,
     "metadata": {},
     "output_type": "execute_result"
    }
   ],
   "source": [
    "diff_punch = df.groupby('artists')['punch'].unique().apply(len).sort_values(ascending=False)\n",
    "diff_punch.head(15)\n",
    "#counts number of different punchs used by each rapper"
   ]
  },
  {
   "cell_type": "code",
   "execution_count": 11,
   "metadata": {},
   "outputs": [
    {
     "data": {
      "image/png": "[encoded data removed]",
      "text/plain": [
       "<Figure size 2160x720 with 1 Axes>"
      ]
     },
     "metadata": {
      "needs_background": "light"
     },
     "output_type": "display_data"
    }
   ],
   "source": [
    "df_refs = pd.DataFrame({\"single_mentions\" : top_artist,\n",
    "                        \"diff_punch\" : diff_punch,\n",
    "                        \"diff_mentions\" : diff_ref},index=top_artist.index)\n",
    "\n",
    "df_refs = df_refs.head(25)\n",
    "#ind = df_refs.set_index(index, inplace = True)\n",
    "\n",
    "bar = df_refs.plot(kind='bar',figsize=(30, 10), legend = None)\n",
    "\n",
    "\n",
    "\n",
    "#Appearance\n",
    "plt.xlabel(\"artists\", fontsize = 25)\n",
    "plt.xticks(rotation = 90, fontsize = 20)\n",
    "\n",
    "plt.ylabel(\"Occurences\", fontsize = 25)\n",
    "plt.yticks(rotation = 90, fontsize = 20)\n",
    "\n",
    "plt.title(\"Number of references to Scarface for each artist\", fontsize = 35)\n",
    "bar.spines['top'].set_visible(False)\n",
    "bar.spines['right'].set_visible(False)\n",
    "\n",
    "x = [0,50]\n",
    "y = [5,5]\n",
    "plt.plot(x,y,linestyle = 'dashed',label = '5 mentions différentes')\n",
    "\n",
    "plt.show()\n"
   ]
  },
  {
   "cell_type": "code",
   "execution_count": 12,
   "metadata": {},
   "outputs": [],
   "source": [
    "def overview(artist):\n",
    "    nb_global = (df[\"artists\"].str.contains(artist)).sum()\n",
    "    nb_feat = ((df[\"artists\"].str.contains(artist))&(df[\"artists\"]!=artist)).sum()\n",
    "\n",
    "    ref_count = df[df[\"artists\"].str.contains(artist)][\"word_searched\"].value_counts()\n",
    "\n",
    "    nb_feat = str(nb_feat)\n",
    "    nb_global = str(nb_global)\n",
    "    ref_count = str(ref_count)\n",
    "    \n",
    "    print(artist + \" overview :\")\n",
    "    print(nb_global + \" mentions in total including \" + nb_feat +\" on a featuring \")\n",
    "    print(\"Words :\")\n",
    "    print(ref_count)\n",
    "    \n",
    "    \n",
    "    df_global = df[df[\"artists\"].str.contains(artist)]\n",
    "\n",
    "    nb_songs = df_global[\"title\"].value_counts()\n",
    "    \n",
    "    print( \"Songs : \")\n",
    "    print(nb_songs)\n",
    "\n",
    "    display(df_global.head(2))\n",
    "\n",
    "    #Display lines only for feats \n",
    "    #df_feat = df[(df[\"ARTISTE\"].str.contains(artist))&(df[\"ARTISTE\"]!=artist)]\n",
    "    #print(\"Only feats :\")\n",
    "    #display(df_feat.head(1))\n",
    "    \n",
    "# function that counts all lines where artiste countains \"artist\" \n",
    "# nb_feat but is not exactly artist =>  number of lines where the artist is feated with someone else\n",
    "# then shows all the line of an artist including when feats\n"
   ]
  },
  {
   "cell_type": "code",
   "execution_count": 13,
   "metadata": {},
   "outputs": [
    {
     "ename": "ValueError",
     "evalue": "Cannot mask with non-boolean array containing NA / NaN values",
     "output_type": "error",
     "traceback": [
      "\u001b[1;31m---------------------------------------------------------------------------\u001b[0m",
      "\u001b[1;31mValueError\u001b[0m                                Traceback (most recent call last)",
      "\u001b[1;32m<ipython-input-13-f43762be6711>\u001b[0m in \u001b[0;36m<module>\u001b[1;34m\u001b[0m\n\u001b[1;32m----> 1\u001b[1;33m \u001b[0moverview\u001b[0m\u001b[1;33m(\u001b[0m\u001b[1;34m\"Salif\"\u001b[0m\u001b[1;33m)\u001b[0m\u001b[1;33m\u001b[0m\u001b[1;33m\u001b[0m\u001b[0m\n\u001b[0m",
      "\u001b[1;32m<ipython-input-12-a5c839d854a4>\u001b[0m in \u001b[0;36moverview\u001b[1;34m(artist)\u001b[0m\n\u001b[0;32m      3\u001b[0m     \u001b[0mnb_feat\u001b[0m \u001b[1;33m=\u001b[0m \u001b[1;33m(\u001b[0m\u001b[1;33m(\u001b[0m\u001b[0mdf\u001b[0m\u001b[1;33m[\u001b[0m\u001b[1;34m\"artists\"\u001b[0m\u001b[1;33m]\u001b[0m\u001b[1;33m.\u001b[0m\u001b[0mstr\u001b[0m\u001b[1;33m.\u001b[0m\u001b[0mcontains\u001b[0m\u001b[1;33m(\u001b[0m\u001b[0martist\u001b[0m\u001b[1;33m)\u001b[0m\u001b[1;33m)\u001b[0m\u001b[1;33m&\u001b[0m\u001b[1;33m(\u001b[0m\u001b[0mdf\u001b[0m\u001b[1;33m[\u001b[0m\u001b[1;34m\"artists\"\u001b[0m\u001b[1;33m]\u001b[0m\u001b[1;33m!=\u001b[0m\u001b[0martist\u001b[0m\u001b[1;33m)\u001b[0m\u001b[1;33m)\u001b[0m\u001b[1;33m.\u001b[0m\u001b[0msum\u001b[0m\u001b[1;33m(\u001b[0m\u001b[1;33m)\u001b[0m\u001b[1;33m\u001b[0m\u001b[1;33m\u001b[0m\u001b[0m\n\u001b[0;32m      4\u001b[0m \u001b[1;33m\u001b[0m\u001b[0m\n\u001b[1;32m----> 5\u001b[1;33m     \u001b[0mref_count\u001b[0m \u001b[1;33m=\u001b[0m \u001b[0mdf\u001b[0m\u001b[1;33m[\u001b[0m\u001b[0mdf\u001b[0m\u001b[1;33m[\u001b[0m\u001b[1;34m\"artists\"\u001b[0m\u001b[1;33m]\u001b[0m\u001b[1;33m.\u001b[0m\u001b[0mstr\u001b[0m\u001b[1;33m.\u001b[0m\u001b[0mcontains\u001b[0m\u001b[1;33m(\u001b[0m\u001b[0martist\u001b[0m\u001b[1;33m)\u001b[0m\u001b[1;33m]\u001b[0m\u001b[1;33m[\u001b[0m\u001b[1;34m\"word_searched\"\u001b[0m\u001b[1;33m]\u001b[0m\u001b[1;33m.\u001b[0m\u001b[0mvalue_counts\u001b[0m\u001b[1;33m(\u001b[0m\u001b[1;33m)\u001b[0m\u001b[1;33m\u001b[0m\u001b[1;33m\u001b[0m\u001b[0m\n\u001b[0m\u001b[0;32m      6\u001b[0m \u001b[1;33m\u001b[0m\u001b[0m\n\u001b[0;32m      7\u001b[0m     \u001b[0mnb_feat\u001b[0m \u001b[1;33m=\u001b[0m \u001b[0mstr\u001b[0m\u001b[1;33m(\u001b[0m\u001b[0mnb_feat\u001b[0m\u001b[1;33m)\u001b[0m\u001b[1;33m\u001b[0m\u001b[1;33m\u001b[0m\u001b[0m\n",
      "\u001b[1;32mc:\\users\\paul-\\appdata\\local\\programs\\python\\python38\\lib\\site-packages\\pandas\\core\\frame.py\u001b[0m in \u001b[0;36m__getitem__\u001b[1;34m(self, key)\u001b[0m\n\u001b[0;32m   2788\u001b[0m \u001b[1;33m\u001b[0m\u001b[0m\n\u001b[0;32m   2789\u001b[0m         \u001b[1;31m# Do we have a (boolean) 1d indexer?\u001b[0m\u001b[1;33m\u001b[0m\u001b[1;33m\u001b[0m\u001b[1;33m\u001b[0m\u001b[0m\n\u001b[1;32m-> 2790\u001b[1;33m         \u001b[1;32mif\u001b[0m \u001b[0mcom\u001b[0m\u001b[1;33m.\u001b[0m\u001b[0mis_bool_indexer\u001b[0m\u001b[1;33m(\u001b[0m\u001b[0mkey\u001b[0m\u001b[1;33m)\u001b[0m\u001b[1;33m:\u001b[0m\u001b[1;33m\u001b[0m\u001b[1;33m\u001b[0m\u001b[0m\n\u001b[0m\u001b[0;32m   2791\u001b[0m             \u001b[1;32mreturn\u001b[0m \u001b[0mself\u001b[0m\u001b[1;33m.\u001b[0m\u001b[0m_getitem_bool_array\u001b[0m\u001b[1;33m(\u001b[0m\u001b[0mkey\u001b[0m\u001b[1;33m)\u001b[0m\u001b[1;33m\u001b[0m\u001b[1;33m\u001b[0m\u001b[0m\n\u001b[0;32m   2792\u001b[0m \u001b[1;33m\u001b[0m\u001b[0m\n",
      "\u001b[1;32mc:\\users\\paul-\\appdata\\local\\programs\\python\\python38\\lib\\site-packages\\pandas\\core\\common.py\u001b[0m in \u001b[0;36mis_bool_indexer\u001b[1;34m(key)\u001b[0m\n\u001b[0;32m    134\u001b[0m                 \u001b[0mna_msg\u001b[0m \u001b[1;33m=\u001b[0m \u001b[1;34m\"Cannot mask with non-boolean array containing NA / NaN values\"\u001b[0m\u001b[1;33m\u001b[0m\u001b[1;33m\u001b[0m\u001b[0m\n\u001b[0;32m    135\u001b[0m                 \u001b[1;32mif\u001b[0m \u001b[0misna\u001b[0m\u001b[1;33m(\u001b[0m\u001b[0mkey\u001b[0m\u001b[1;33m)\u001b[0m\u001b[1;33m.\u001b[0m\u001b[0many\u001b[0m\u001b[1;33m(\u001b[0m\u001b[1;33m)\u001b[0m\u001b[1;33m:\u001b[0m\u001b[1;33m\u001b[0m\u001b[1;33m\u001b[0m\u001b[0m\n\u001b[1;32m--> 136\u001b[1;33m                     \u001b[1;32mraise\u001b[0m \u001b[0mValueError\u001b[0m\u001b[1;33m(\u001b[0m\u001b[0mna_msg\u001b[0m\u001b[1;33m)\u001b[0m\u001b[1;33m\u001b[0m\u001b[1;33m\u001b[0m\u001b[0m\n\u001b[0m\u001b[0;32m    137\u001b[0m                 \u001b[1;32mreturn\u001b[0m \u001b[1;32mFalse\u001b[0m\u001b[1;33m\u001b[0m\u001b[1;33m\u001b[0m\u001b[0m\n\u001b[0;32m    138\u001b[0m             \u001b[1;32mreturn\u001b[0m \u001b[1;32mTrue\u001b[0m\u001b[1;33m\u001b[0m\u001b[1;33m\u001b[0m\u001b[0m\n",
      "\u001b[1;31mValueError\u001b[0m: Cannot mask with non-boolean array containing NA / NaN values"
     ]
    }
   ],
   "source": [
    "overview(\"Salif\")"
   ]
  },
  {
   "cell_type": "code",
   "execution_count": null,
   "metadata": {},
   "outputs": [],
   "source": [
    "df.groupby(\"artists\")[\"word_searched\"].count()\n",
    "\n",
    "#.value_counts().sort_values(ascending=False).head(10)"
   ]
  },
  {
   "cell_type": "code",
   "execution_count": null,
   "metadata": {},
   "outputs": [],
   "source": [
    "data = {}\n",
    "\n",
    "for k,v in df.iterrows():\n",
    "#k = iteration, v = rest of the df\n",
    "    artist_name = v[\"artists\"]\n",
    "    artist_data = None\n",
    "    current_search = v[\"word_searched\"]\n",
    "    \n",
    "    if not artist_name in data:\n",
    "        artist_data={}\n",
    "        data[artist_name]=artist_data\n",
    "    else: \n",
    "        current_count = None\n",
    "        artist_data=data[artist_name]\n",
    "        \n",
    "    if not current_search in artist_data:\n",
    "        current_count = 1\n",
    "    else: \n",
    "        current_count = artist_data[current_search]\n",
    "        current_count +=1\n",
    "    artist_data[current_search]=current_count\n",
    "\n",
    "#for all artist creates a dictionnary with all the mentions they used and their count"
   ]
  },
  {
   "cell_type": "code",
   "execution_count": null,
   "metadata": {},
   "outputs": [],
   "source": [
    "df_search = pd.DataFrame(data)\n",
    "df_s = df_search.T.fillna(0) \n",
    "#inverse les colonnes et les lignes + remplace tous les NaN par 0 et les range dans df_s\n",
    "\n",
    "\n",
    "df_s.insert(0,\"total\",df_s.sum(axis=1))\n",
    "df_s.sort_values(\"total\",ascending=False).head(10)"
   ]
  },
  {
   "cell_type": "code",
   "execution_count": null,
   "metadata": {},
   "outputs": [],
   "source": [
    "#count most used words in FULL PUNCH\n",
    "\n",
    "words = {}\n",
    "\n",
    "for k,v in df.iterrows():\n",
    "#k = iteration, v = rest of the df\n",
    "    artist_name = v[\"artists\"]\n",
    "    artist_data = None\n",
    "    current_search = v[\"word_searched\"]\n",
    "    \n",
    "    if not artist_name in data:\n",
    "        artist_data={}\n",
    "        data[artist_name]=artist_data\n",
    "    else: \n",
    "        current_count = None\n",
    "        artist_data=data[artist_name]\n",
    "        \n",
    "    if not current_search in artist_data:\n",
    "        current_count = 1\n",
    "    else: \n",
    "        current_count = artist_data[current_search]\n",
    "        current_count +=1\n",
    "    artist_data[current_search]=current_count\n",
    "\n",
    "#for all artist creates a dictionnary with all the mentions they used and their count"
   ]
  },
  {
   "cell_type": "code",
   "execution_count": null,
   "metadata": {},
   "outputs": [],
   "source": [
    "#function that counts the words in a string\n",
    "def word_count(str):\n",
    "    counts = dict()\n",
    "    words = str.split()\n",
    "\n",
    "    for word in words:\n",
    "        if word in counts:\n",
    "            counts[word] += 1\n",
    "        else:\n",
    "            counts[word] = 1\n",
    "\n",
    "    return counts"
   ]
  },
  {
   "cell_type": "code",
   "execution_count": null,
   "metadata": {},
   "outputs": [],
   "source": [
    "df_all_punchs = df['full_punch'].str.cat(sep=' ').lower()\n",
    "\n",
    "#concatenate all the column full punch and turns it into a string in lowercase\n",
    "\n",
    "w_count = word_count(df_all_punchs)\n",
    "df_w_count = DataFrame(list(w_count.items()),columns = ['word','count']) #turns it into a dataframe that can be ordered (ce n'est pas le cas d'un dict)\n",
    "\n",
    "df_w_count = df_w_count.sort_values(by=['count'],ascending=False)\n",
    "df_w_count.head(10)\n",
    "\n",
    "#ATTENTION LES MOTS NE SONT PAS NORMALISES"
   ]
  },
  {
   "cell_type": "code",
   "execution_count": null,
   "metadata": {},
   "outputs": [],
   "source": [
    "#removing stop words\n",
    "#list of french stop words\n",
    "stop  = {\"words\":[\"a\",\"à\",\"â\",\"abord\",\"afin\",\"ah\",\"ai\",\"aie\",\"ainsi\",\"allaient\",\"allo\",\"allô\",\"allons\",\"après\",\"assez\",\"attendu\",\"au\",\"aucun\",\"aucune\",\"aujourd\",\"aujourd\\u0027hui\",\"auquel\",\"aura\",\"auront\",\"aussi\",\"autre\",\"autres\",\"aux\",\"auxquelles\",\"auxquels\",\"avaient\",\"avais\",\"avait\",\"avant\",\"avec\",\"avoir\",\"ayant\",\"b\",\"bah\",\"beaucoup\",\"bien\",\"bigre\",\"boum\",\"bravo\",\"brrr\",\"c\",\"ça\",\"car\",\"ce\",\"ceci\",\"cela\",\"celle\",\"celle-ci\",\"celle-là\",\"celles\",\"celles-ci\",\"celles-là\",\"celui\",\"celui-ci\",\"celui-là\",\"cent\",\"cependant\",\"certain\",\"certaine\",\"certaines\",\"certains\",\"certes\",\"ces\",\"cet\",\"cette\",\"ceux\",\"ceux-ci\",\"ceux-là\",\"chacun\",\"chaque\",\"cher\",\"chère\",\"chères\",\"chers\",\"chez\",\"chiche\",\"chut\",\"ci\",\"cinq\",\"cinquantaine\",\"cinquante\",\"cinquantième\",\"cinquième\",\"clac\",\"clic\",\"combien\",\"comme\",\"comment\",\"compris\",\"concernant\",\"contre\",\"couic\",\"crac\",\"d\",\"da\",\"dans\",\"de\",\"debout\",\"dedans\",\"dehors\",\"delà\",\"depuis\",\"derrière\",\"des\",\"dès\",\"désormais\",\"desquelles\",\"desquels\",\"dessous\",\"dessus\",\"deux\",\"deuxième\",\"deuxièmement\",\"devant\",\"devers\",\"devra\",\"différent\",\"différente\",\"différentes\",\"différents\",\"dire\",\"divers\",\"diverse\",\"diverses\",\"dix\",\"dix-huit\",\"dixième\",\"dix-neuf\",\"dix-sept\",\"doit\",\"doivent\",\"donc\",\"dont\",\"douze\",\"douzième\",\"dring\",\"du\",\"duquel\",\"durant\",\"e\",\"effet\",\"eh\",\"elle\",\"elle-même\",\"elles\",\"elles-mêmes\",\"en\",\"encore\",\"entre\",\"envers\",\"environ\",\"es\",\"ès\",\"est\",\"et\",\"etant\",\"étaient\",\"étais\",\"était\",\"étant\",\"etc\",\"été\",\"etre\",\"être\",\"eu\",\"euh\",\"eux\",\"eux-mêmes\",\"excepté\",\"f\",\"façon\",\"fais\",\"faisaient\",\"faisant\",\"fait\",\"feront\",\"fi\",\"flac\",\"floc\",\"font\",\"g\",\"gens\",\"h\",\"ha\",\"hé\",\"hein\",\"hélas\",\"hem\",\"hep\",\"hi\",\"ho\",\"holà\",\"hop\",\"hormis\",\"hors\",\"hou\",\"houp\",\"hue\",\"hui\",\"huit\",\"huitième\",\"hum\",\"hurrah\",\"i\",\"il\",\"ils\",\"importe\",\"j\",\"je\",\"jusqu\",\"jusque\",\"k\",\"l\",\"la\",\"là\",\"laquelle\",\"las\",\"le\",\"lequel\",\"les\",\"lès\",\"lesquelles\",\"lesquels\",\"leur\",\"leurs\",\"longtemps\",\"lorsque\",\"lui\",\"lui-même\",\"m\",\"ma\",\"maint\",\"mais\",\"malgré\",\"me\",\"même\",\"mêmes\",\"merci\",\"mes\",\"mien\",\"mienne\",\"miennes\",\"miens\",\"mille\",\"mince\",\"moi\",\"moi-même\",\"moins\",\"mon\",\"moyennant\",\"n\",\"na\",\"ne\",\"néanmoins\",\"neuf\",\"neuvième\",\"ni\",\"nombreuses\",\"nombreux\",\"non\",\"nos\",\"notre\",\"nôtre\",\"nôtres\",\"nous\",\"nous-mêmes\",\"nul\",\"o\",\"o|\",\"ô\",\"oh\",\"ohé\",\"olé\",\"ollé\",\"on\",\"ont\",\"onze\",\"onzième\",\"ore\",\"ou\",\"où\",\"ouf\",\"ouias\",\"oust\",\"ouste\",\"outre\",\"p\",\"paf\",\"pan\",\"par\",\"parmi\",\"partant\",\"particulier\",\"particulière\",\"particulièrement\",\"pas\",\"passé\",\"pendant\",\"personne\",\"peu\",\"peut\",\"peuvent\",\"peux\",\"pff\",\"pfft\",\"pfut\",\"pif\",\"plein\",\"plouf\",\"plus\",\"plusieurs\",\"plutôt\",\"pouah\",\"pour\",\"pourquoi\",\"premier\",\"première\",\"premièrement\",\"près\",\"proche\",\"psitt\",\"puisque\",\"q\",\"qu\",\"quand\",\"quant\",\"quanta\",\"quant-à-soi\",\"quarante\",\"quatorze\",\"quatre\",\"quatre-vingt\",\"quatrième\",\"quatrièmement\",\"que\",\"quel\",\"quelconque\",\"quelle\",\"quelles\",\"quelque\",\"quelques\",\"quelqu\\u0027un\",\"quels\",\"qui\",\"quiconque\",\"quinze\",\"quoi\",\"quoique\",\"r\",\"revoici\",\"revoilà\",\"rien\",\"s\",\"sa\",\"sacrebleu\",\"sans\",\"sapristi\",\"sauf\",\"se\",\"seize\",\"selon\",\"sept\",\"septième\",\"sera\",\"seront\",\"ses\",\"si\",\"sien\",\"sienne\",\"siennes\",\"siens\",\"sinon\",\"six\",\"sixième\",\"soi\",\"soi-même\",\"soit\",\"soixante\",\"son\",\"sont\",\"sous\",\"stop\",\"suis\",\"suivant\",\"sur\",\"surtout\",\"t\",\"ta\",\"tac\",\"tant\",\"te\",\"té\",\"tel\",\"telle\",\"tellement\",\"telles\",\"tels\",\"tenant\",\"tes\",\"tic\",\"tien\",\"tienne\",\"tiennes\",\"tiens\",\"toc\",\"toi\",\"toi-même\",\"ton\",\"touchant\",\"toujours\",\"tous\",\"tout\",\"toute\",\"toutes\",\"treize\",\"trente\",\"très\",\"trois\",\"troisième\",\"troisièmement\",\"trop\",\"tsoin\",\"tsouin\",\"tu\",\"u\",\"un\",\"une\",\"unes\",\"uns\",\"v\",\"va\",\"vais\",\"vas\",\"vé\",\"vers\",\"via\",\"vif\",\"vifs\",\"vingt\",\"vivat\",\"vive\",\"vives\",\"vlan\",\"voici\",\"voilà\",\"vont\",\"vos\",\"votre\",\"vôtre\",\"vôtres\",\"vous\",\"vous-mêmes\",\"vu\",\"w\",\"x\",\"y\",\"z\",\"zut\",\"alors\",\"aucuns\",\"bon\",\"devrait\",\"dos\",\"droite\",\"début\",\"essai\",\"faites\",\"fois\",\"force\",\"haut\",\"ici\",\"juste\",\"maintenant\",\"mine\",\"mot\",\"nommés\",\"nouveaux\",\"parce\",\"parole\",\"personnes\",\"pièce\",\"plupart\",\"seulement\",\"soyez\",\"sujet\",\"tandis\",\"valeur\",\"voie\",\"voient\",\"état\",\"étions\"]}\n",
    "\n",
    "df_w_count_without_stop = df_w_count[~df_w_count[\"word\"].isin(stop['words'])]\n",
    "df_w_count_without_stop.head(20)\n",
    "\n",
    "\n"
   ]
  },
  {
   "cell_type": "code",
   "execution_count": null,
   "metadata": {},
   "outputs": [],
   "source": [
    "#DL list\n",
    "\n",
    "df_w_count_without_stop.to_csv(r'D:\\WORK\\RAPSODIE\\Code\\Python\\Scarface\\word_count.csv', index = False)"
   ]
  },
  {
   "cell_type": "code",
   "execution_count": null,
   "metadata": {},
   "outputs": [],
   "source": []
  }
 ],
 "metadata": {
  "kernelspec": {
   "display_name": "Python 3",
   "language": "python",
   "name": "python3"
  },
  "language_info": {
   "codemirror_mode": {
    "name": "ipython",
    "version": 3
   },
   "file_extension": ".py",
   "mimetype": "text/x-python",
   "name": "python",
   "nbconvert_exporter": "python",
   "pygments_lexer": "ipython3",
   "version": "3.8.2"
  }
 },
 "nbformat": 4,
 "nbformat_minor": 4
}
